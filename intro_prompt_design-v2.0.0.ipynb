{
 "cells": [
  {
   "cell_type": "code",
   "execution_count": null,
   "metadata": {
    "id": "ur8xi4C7S06n"
   },
   "outputs": [],
   "source": [
    "# Copyright 2024 Google LLC\n",
    "#\n",
    "# Licensed under the Apache License, Version 2.0 (the \"License\");\n",
    "# you may not use this file except in compliance with the License.\n",
    "# You may obtain a copy of the License at\n",
    "#\n",
    "#     https://www.apache.org/licenses/LICENSE-2.0\n",
    "#\n",
    "# Unless required by applicable law or agreed to in writing, software\n",
    "# distributed under the License is distributed on an \"AS IS\" BASIS,\n",
    "# WITHOUT WARRANTIES OR CONDITIONS OF ANY KIND, either express or implied.\n",
    "# See the License for the specific language governing permissions and\n",
    "# limitations under the License."
   ]
  },
  {
   "cell_type": "markdown",
   "metadata": {
    "id": "JAPoU8Sm5E6e"
   },
   "source": [
    "# Prompt Design - Best Practices\n",
    "\n",
    "<table align=\"left\">\n",
    "  <td style=\"text-align: center\">\n",
    "    <a href=\"https://colab.research.google.com/github/GoogleCloudPlatform/generative-ai/blob/main/gemini/prompts/intro_prompt_design.ipynb\">\n",
    "      <img src=\"https://cloud.google.com/ml-engine/images/colab-logo-32px.png\" alt=\"Google Colaboratory logo\"><br> Open in Colab\n",
    "    </a>\n",
    "  </td>\n",
    "  <td style=\"text-align: center\">\n",
    "    <a href=\"https://console.cloud.google.com/vertex-ai/colab/import/https:%2F%2Fraw.githubusercontent.com%2FGoogleCloudPlatform%2Fgenerative-ai%2Fmain%2Fgemini%2Fprompts%2Fintro_prompt_design.ipynb\">\n",
    "      <img width=\"32px\" src=\"https://lh3.googleusercontent.com/JmcxdQi-qOpctIvWKgPtrzZdJJK-J3sWE1RsfjZNwshCFgE_9fULcNpuXYTilIR2hjwN\" alt=\"Google Cloud Colab Enterprise logo\"><br> Open in Colab Enterprise\n",
    "    </a>\n",
    "  </td>    \n",
    "  <td style=\"text-align: center\">\n",
    "    <a href=\"https://console.cloud.google.com/vertex-ai/workbench/deploy-notebook?download_url=https://raw.githubusercontent.com/GoogleCloudPlatform/generative-ai/main/gemini/prompts/intro_prompt_design.ipynb\">\n",
    "      <img src=\"https://lh3.googleusercontent.com/UiNooY4LUgW_oTvpsNhPpQzsstV5W8F7rYgxgGBD85cWJoLmrOzhVs_ksK_vgx40SHs7jCqkTkCk=e14-rj-sc0xffffff-h130-w32\" alt=\"Vertex AI logo\"><br> Open in Workbench\n",
    "    </a>\n",
    "  </td>\n",
    "  <td style=\"text-align: center\">\n",
    "    <a href=\"https://github.com/GoogleCloudPlatform/generative-ai/blob/main/gemini/prompts/intro_prompt_design.ipynb\">\n",
    "      <img src=\"https://cloud.google.com/ml-engine/images/github-logo-32px.png\" alt=\"GitHub logo\"><br> View on GitHub\n",
    "    </a>\n",
    "  </td>\n",
    "  <td style=\"text-align: center\">\n",
    "    <a href=\"https://goo.gle/4fWHlze\">\n",
    "      <img width=\"32px\" src=\"https://cdn.qwiklabs.com/assets/gcp_cloud-e3a77215f0b8bfa9b3f611c0d2208c7e8708ed31.svg\" alt=\"Google Cloud logo\"><br> Open in  Cloud Skills Boost\n",
    "    </a>\n",
    "  </td>\n",
    "</table>\n",
    "\n",
    "<div style=\"clear: both;\"></div>\n",
    "\n",
    "<b>Share to:</b>\n",
    "\n",
    "<a href=\"https://www.linkedin.com/sharing/share-offsite/?url=https%3A//github.com/GoogleCloudPlatform/generative-ai/blob/main/gemini/prompts/intro_prompt_design.ipynb\" target=\"_blank\">\n",
    "  <img width=\"20px\" src=\"https://upload.wikimedia.org/wikipedia/commons/8/81/LinkedIn_icon.svg\" alt=\"LinkedIn logo\">\n",
    "</a>\n",
    "\n",
    "<a href=\"https://bsky.app/intent/compose?text=https%3A//github.com/GoogleCloudPlatform/generative-ai/blob/main/gemini/prompts/intro_prompt_design.ipynb\" target=\"_blank\">\n",
    "  <img width=\"20px\" src=\"https://upload.wikimedia.org/wikipedia/commons/7/7a/Bluesky_Logo.svg\" alt=\"Bluesky logo\">\n",
    "</a>\n",
    "\n",
    "<a href=\"https://twitter.com/intent/tweet?url=https%3A//github.com/GoogleCloudPlatform/generative-ai/blob/main/gemini/prompts/intro_prompt_design.ipynb\" target=\"_blank\">\n",
    "  <img width=\"20px\" src=\"https://upload.wikimedia.org/wikipedia/commons/5/53/X_logo_2023_original.svg\" alt=\"X logo\">\n",
    "</a>\n",
    "\n",
    "<a href=\"https://reddit.com/submit?url=https%3A//github.com/GoogleCloudPlatform/generative-ai/blob/main/gemini/prompts/intro_prompt_design.ipynb\" target=\"_blank\">\n",
    "  <img width=\"20px\" src=\"https://redditinc.com/hubfs/Reddit%20Inc/Brand/Reddit_Logo.png\" alt=\"Reddit logo\">\n",
    "</a>\n",
    "\n",
    "<a href=\"https://www.facebook.com/sharer/sharer.php?u=https%3A//github.com/GoogleCloudPlatform/generative-ai/blob/main/gemini/prompts/intro_prompt_design.ipynb\" target=\"_blank\">\n",
    "  <img width=\"20px\" src=\"https://upload.wikimedia.org/wikipedia/commons/5/51/Facebook_f_logo_%282019%29.svg\" alt=\"Facebook logo\">\n",
    "</a>            "
   ]
  },
  {
   "cell_type": "markdown",
   "metadata": {
    "id": "84f0f73a0f76"
   },
   "source": [
    "| | |\n",
    "|-|-|\n",
    "|Author(s) | [Polong Lin](https://github.com/polong-lin), [Karl Weinmeister](https://github.com/kweinmeister) |"
   ]
  },
  {
   "cell_type": "markdown",
   "metadata": {
    "id": "tvgnzT1CKxrO"
   },
   "source": [
    "## Overview\n",
    "\n",
    "This notebook covers the essentials of prompt engineering, including some best practices.\n",
    "\n",
    "Learn more about prompt design in the [official documentation](https://cloud.google.com/vertex-ai/docs/generative-ai/text/text-overview).\n",
    "\n",
    "In this notebook, you learn best practices around prompt engineering -- how to design prompts to improve the quality of your responses.\n",
    "\n",
    "This notebook covers the following best practices for prompt engineering:\n",
    "\n",
    "- Be concise\n",
    "- Be specific and well-defined\n",
    "- Ask one task at a time\n",
    "- Turn generative tasks into classification tasks\n",
    "- Improve response quality by including examples"
   ]
  },
  {
   "cell_type": "markdown",
   "metadata": {
    "id": "61RBz8LLbxCR"
   },
   "source": [
    "## Getting Started"
   ]
  },
  {
   "cell_type": "markdown",
   "metadata": {
    "id": "No17Cw5hgx12"
   },
   "source": [
    "### Install Google Gen AI SDK\n"
   ]
  },
  {
   "cell_type": "code",
   "execution_count": 1,
   "metadata": {
    "id": "tFy3H3aPgx12",
    "tags": []
   },
   "outputs": [
    {
     "name": "stdout",
     "output_type": "stream",
     "text": [
      "Note: you may need to restart the kernel to use updated packages.\n"
     ]
    }
   ],
   "source": [
    "%pip install --upgrade --quiet google-genai"
   ]
  },
  {
   "cell_type": "markdown",
   "metadata": {
    "id": "R5Xep4W9lq-Z"
   },
   "source": [
    "### Restart runtime\n",
    "\n",
    "To use the newly installed packages in this Jupyter runtime, you must restart the runtime. You can do this by running the cell below, which will restart the current kernel."
   ]
  },
  {
   "cell_type": "code",
   "execution_count": 2,
   "metadata": {
    "id": "XRvKdaPDTznN",
    "tags": []
   },
   "outputs": [
    {
     "data": {
      "text/plain": [
       "{'status': 'ok', 'restart': True}"
      ]
     },
     "execution_count": 2,
     "metadata": {},
     "output_type": "execute_result"
    }
   ],
   "source": [
    "import IPython\n",
    "\n",
    "app = IPython.Application.instance()\n",
    "app.kernel.do_shutdown(True)"
   ]
  },
  {
   "cell_type": "markdown",
   "metadata": {
    "id": "SbmM4z7FOBpM"
   },
   "source": [
    "<div class=\"alert alert-block alert-warning\">\n",
    "<b>⚠️ The kernel is going to restart. Please wait until it is finished before continuing to the next step. ⚠️</b>\n",
    "</div>\n"
   ]
  },
  {
   "cell_type": "markdown",
   "metadata": {
    "id": "dmWOrTJ3gx13"
   },
   "source": [
    "### Authenticate your notebook environment (Colab only)\n",
    "\n",
    "Authenticate your environment on Google Colab.\n"
   ]
  },
  {
   "cell_type": "code",
   "execution_count": 1,
   "metadata": {
    "id": "NyKGtVQjgx13",
    "tags": []
   },
   "outputs": [],
   "source": [
    "import sys\n",
    "\n",
    "if \"google.colab\" in sys.modules:\n",
    "    from google.colab import auth\n",
    "\n",
    "    auth.authenticate_user()"
   ]
  },
  {
   "cell_type": "markdown",
   "metadata": {
    "id": "06489bd14f16"
   },
   "source": [
    "### Import libraries\n"
   ]
  },
  {
   "cell_type": "code",
   "execution_count": 2,
   "metadata": {
    "id": "154137022fb6",
    "tags": []
   },
   "outputs": [],
   "source": [
    "from IPython.display import Markdown, display\n",
    "from google import genai\n",
    "from google.genai.types import GenerateContentConfig"
   ]
  },
  {
   "cell_type": "markdown",
   "metadata": {
    "id": "DF4l8DTdWgPY"
   },
   "source": [
    "### Set Google Cloud project information and create client\n",
    "\n",
    "To get started using Vertex AI, you must have an existing Google Cloud project and [enable the Vertex AI API](https://console.cloud.google.com/flows/enableapi?apiid=aiplatform.googleapis.com).\n",
    "\n",
    "Learn more about [setting up a project and a development environment](https://cloud.google.com/vertex-ai/docs/start/cloud-environment)."
   ]
  },
  {
   "cell_type": "code",
   "execution_count": 3,
   "metadata": {
    "id": "Nqwi-5ufWp_B",
    "tags": []
   },
   "outputs": [],
   "source": [
    "import os\n",
    "\n",
    "PROJECT_ID = \"[qwiklabs-gcp-03-ed40200daf9f]\"  # @param {type: \"string\", placeholder: \"[your-project-id]\", isTemplate: true}\n",
    "if not PROJECT_ID or PROJECT_ID == \"[qwiklabs-gcp-03-ed40200daf9f]\":\n",
    "    PROJECT_ID = str(os.environ.get(\"GOOGLE_CLOUD_PROJECT\"))\n",
    "\n",
    "LOCATION = os.environ.get(\"GOOGLE_CLOUD_REGION\", \"us-central1\")"
   ]
  },
  {
   "cell_type": "code",
   "execution_count": 4,
   "metadata": {
    "id": "QqRWdPGmW3NJ",
    "tags": []
   },
   "outputs": [],
   "source": [
    "client = genai.Client(vertexai=True, project=PROJECT_ID, location=LOCATION)"
   ]
  },
  {
   "cell_type": "markdown",
   "metadata": {
    "id": "OnFPpCRtXRl4"
   },
   "source": [
    "### Load model\n",
    "\n",
    "Learn more about all [Gemini models on Vertex AI](https://cloud.google.com/vertex-ai/generative-ai/docs/learn/models#gemini-models)."
   ]
  },
  {
   "cell_type": "code",
   "execution_count": 5,
   "metadata": {
    "id": "IQYu_9SvXQah",
    "tags": []
   },
   "outputs": [],
   "source": [
    "MODEL_ID = \"gemini-2.0-flash-001\"  # @param {type: \"string\"}"
   ]
  },
  {
   "cell_type": "markdown",
   "metadata": {
    "id": "cVOtUNJ5X0PY"
   },
   "source": [
    "## Prompt engineering best practices"
   ]
  },
  {
   "cell_type": "markdown",
   "metadata": {
    "id": "uv_e0fEPX60q"
   },
   "source": [
    "Prompt engineering is all about how to design your prompts so that the response is what you were indeed hoping to see.\n",
    "\n",
    "The idea of using \"unfancy\" prompts is to minimize the noise in your prompt to reduce the possibility of the LLM misinterpreting the intent of the prompt. Below are a few guidelines on how to engineer \"unfancy\" prompts.\n",
    "\n",
    "In this section, you'll cover the following best practices when engineering prompts:\n",
    "\n",
    "* Be concise\n",
    "* Be specific, and well-defined\n",
    "* Ask one task at a time\n",
    "* Improve response quality by including examples\n",
    "* Turn generative tasks to classification tasks to improve safety"
   ]
  },
  {
   "cell_type": "markdown",
   "metadata": {
    "id": "0pY4XX0OX9_Y"
   },
   "source": [
    "### Be concise"
   ]
  },
  {
   "cell_type": "markdown",
   "metadata": {
    "id": "xlRpxyxGYA1K"
   },
   "source": [
    "🛑 Not recommended. The prompt below is unnecessarily verbose."
   ]
  },
  {
   "cell_type": "code",
   "execution_count": 8,
   "metadata": {
    "id": "YKV4G-CfXdbi",
    "tags": []
   },
   "outputs": [
    {
     "data": {
      "text/markdown": [
       "Okay, let's brainstorm some names for a dried flower shop, keeping in mind different vibes (modern, rustic, whimsical, etc.):\n",
       "\n",
       "**Emphasizing the Dried/Preserved Aspect:**\n",
       "\n",
       "*   **The Everbloom:** Simple, elegant, and highlights the lasting quality.\n",
       "*   **Lasting Petals:**  Focuses on the longevity and beauty.\n",
       "*   **Preserved Posies:** Alliterative and descriptive.\n",
       "*   **The Dried Daisy:** (or Rose, Lavender, etc. depending on your signature flower) - Simple, memorable, and specific.\n",
       "*   **Golden Flora:** Evokes a sense of age and richness.\n",
       "*   **Timeless Blooms:** Classic and sophisticated.\n",
       "*   **The Still Life Studio:**  More artistic and implies a carefully composed arrangement.\n",
       "*   **Botanical Echoes:** Poetic and hints at the past.\n",
       "*   **Enduring Petals:**  Similar to Lasting Petals, but a bit stronger.\n",
       "*   **Dry Goods Florals:** Playful, slightly vintage, and unexpected.\n",
       "\n",
       "**Emphasizing the Beauty & Artistry:**\n",
       "\n",
       "*   **Petrified Petals** (or whatever the main flower in store is)\n",
       "*   **The Gilded Stem:**  Elegant and suggests a touch of luxury.\n",
       "*   **Woven Blooms:**  If you create intricate arrangements.\n",
       "*   **Palette & Petal:**  If you focus on color combinations.\n",
       "*   **The Artful Arrangement:**  Highlights the design aspect.\n",
       "*   **Floral Curations:** Modern and implies a carefully selected collection.\n",
       "*   **The Botanical Atelier:** French-inspired and suggests craftsmanship.\n",
       "*   **Dried Delights:** Short, sweet, and focuses on the joy of the flowers.\n",
       "*   **Golden Fields Floral:** Evokes images of dried grasses and natural beauty.\n",
       "\n",
       "**Emphasizing a Rustic/Natural Vibe:**\n",
       "\n",
       "*   **The Dry Garden:** Simple and descriptive.\n",
       "*   **Prairie Petals:** Evokes a sense of natural, wild beauty.\n",
       "*   **The Wildflower Wreath:** If you specialize in wreaths.\n",
       "*   **Sunbaked Stems:** Implies a natural drying process.\n",
       "*   **Harvest Blooms:**  Connects to the idea of gathering and preserving.\n",
       "*   **The Rustic Rose:** (or another flower) - Simple and charming.\n",
       "*   **The Bountiful Branch:** Suggests abundance and natural forms.\n",
       "*   **Earthen Flora:** Emphasizes the natural origin and color palette.\n",
       "\n",
       "**Whimsical/Unique:**\n",
       "\n",
       "*   **The Flower Alchemist:**  Suggests transforming ordinary flowers into something special.\n",
       "*   **Bloom & Bone:** (If your style is a bit edgy) - A contrasting and memorable name.\n",
       "*   **The Petal Pusher (Dry Edition):** Playful twist on a common phrase.\n",
       "*   **Neverland Blooms:** Evokes a sense of fantasy and timelessness.\n",
       "*   **The Whispering Wildflowers:**  Poetic and a bit mysterious.\n",
       "*   **The Stillroom:**  A reference to a traditional room for preserving herbs and flowers.\n",
       "\n",
       "**Tips for Choosing the Best Name:**\n",
       "\n",
       "*   **Consider your target audience:** Are you going for a high-end clientele or a more casual market?\n",
       "*   **Check for availability:** Make sure the name isn't already in use and that the domain name is available.\n",
       "*   **Say it out loud:** Does it sound good? Is it easy to remember and pronounce?\n",
       "*   **Get feedback:** Ask friends, family, or potential customers what they think.\n",
       "*   **Reflect your brand:** Does the name accurately represent the style and quality of your flowers?\n",
       "\n",
       "I hope this gives you a good starting point! Good luck!\n"
      ],
      "text/plain": [
       "<IPython.core.display.Markdown object>"
      ]
     },
     "metadata": {},
     "output_type": "display_data"
    }
   ],
   "source": [
    "\n",
    "prompt = \"What do you think could be a good name for a flower shop that specializes in selling bouquets of dried flowers more than fresh flowers?\"\n",
    "\n",
    "response = client.models.generate_content(model=MODEL_ID, contents=prompt)\n",
    "display(Markdown(response.text))"
   ]
  },
  {
   "cell_type": "markdown",
   "metadata": {
    "id": "YrJexRHJYnmC"
   },
   "source": [
    "✅ Recommended. The prompt below is to the point and concise."
   ]
  },
  {
   "cell_type": "code",
   "execution_count": 9,
   "metadata": {
    "id": "VHetn9lCYrXB",
    "tags": []
   },
   "outputs": [
    {
     "data": {
      "text/markdown": [
       "Okay, here are some name suggestions for a dried flower shop, playing on different aspects of the business:\n",
       "\n",
       "**Emphasizing Permanence & Beauty:**\n",
       "\n",
       "*   The Everbloom\n",
       "*   Lasting Petals\n",
       "*   Eternal Blooms\n",
       "*   The Still Life Florist\n",
       "*   Preserved Petals\n",
       "*   Timeless Florals\n",
       "*   The Unfading Bloom\n",
       "*   Everlasting Arrangements\n",
       "*   Golden Hour Florals (evokes the warm, preserved feeling)\n",
       "*   Arbor Vitae (Latin for \"tree of life,\" symbolizes longevity)\n",
       "\n",
       "**Emphasizing Natural & Rustic Qualities:**\n",
       "\n",
       "*   The Dry Garden\n",
       "*   Field & Fern (even though it's dried, it suggests natural origins)\n",
       "*   Prairie Petals\n",
       "*   The Dried Stem\n",
       "*   Harvest Blooms\n",
       "*   Rustic Posy\n",
       "*   Whispering Wheat (if you use a lot of grasses)\n",
       "*   Sunbaked Florals\n",
       "*   The Gilded Grove\n",
       "*   Dried & Wild\n",
       "\n",
       "**Emphasizing Artistry & Craft:**\n",
       "\n",
       "*   The Dried Palette\n",
       "*   Floral Alchemy\n",
       "*   Sculpted Stems\n",
       "*   The Botanical Atelier\n",
       "*   Pressed & Preserved\n",
       "*   The Still Life Studio\n",
       "*   Woven Blooms\n",
       "*   The Dried Canvas\n",
       "\n",
       "**Modern & Minimalist:**\n",
       "\n",
       "*   Dried\n",
       "*   Bloom Dry\n",
       "*   Petal Dry\n",
       "*   The Dry Florist\n",
       "*   Preserved.\n",
       "*   Still.\n",
       "*   Vase Life\n",
       "\n",
       "**Playful & Unique:**\n",
       "\n",
       "*   The Petal Pusher (a bit ironic)\n",
       "*   Bloom Raider (a fun twist)\n",
       "*   Dead Head Flowers (edgy and memorable, but potentially risky)\n",
       "*   The Dry Spell (playful)\n",
       "*   Second Bloom\n",
       "*   Forever Flowers\n",
       "\n",
       "**Tips for Choosing the Best Name:**\n",
       "\n",
       "*   **Target Audience:** Who are you trying to attract?  A more sophisticated name might appeal to a different customer than a rustic one.\n",
       "*   **Availability:** Check if the name is available as a website domain (.com, .ca, etc.) and on social media platforms.\n",
       "*   **Memorability:** Is it easy to remember and pronounce?\n",
       "*   **Brand Identity:** Does the name align with your overall brand aesthetic (e.g., logo, shop decor)?\n",
       "*   **Local Search:** Consider including a keyword related to your location (e.g., \"Brooklyn Dried Flowers\") if you want to improve local search engine optimization (SEO).\n",
       "*   **Say it Out Loud:** Practice saying the name out loud to see how it sounds.\n",
       "\n",
       "I hope this gives you a good starting point! Good luck!\n"
      ],
      "text/plain": [
       "<IPython.core.display.Markdown object>"
      ]
     },
     "metadata": {},
     "output_type": "display_data"
    }
   ],
   "source": [
    "prompt = \"Suggest a name for a flower shop that sells bouquets of dried flowers\"\n",
    "\n",
    "response = client.models.generate_content(model=MODEL_ID, contents=prompt)\n",
    "display(Markdown(response.text))"
   ]
  },
  {
   "cell_type": "markdown",
   "metadata": {
    "id": "eXTAvdOHY0OC"
   },
   "source": [
    "### Be specific, and well-defined"
   ]
  },
  {
   "cell_type": "markdown",
   "metadata": {
    "id": "FTH4GEIgY1dp"
   },
   "source": [
    "Suppose that you want to brainstorm creative ways to describe Earth."
   ]
  },
  {
   "cell_type": "markdown",
   "metadata": {
    "id": "o5BmXBiGY4KC"
   },
   "source": [
    "🛑 The prompt below might be a bit too generic (which is certainly OK if you'd like to ask a generic question!)"
   ]
  },
  {
   "cell_type": "code",
   "execution_count": 10,
   "metadata": {
    "id": "eHBaMvv7Y6mR",
    "tags": []
   },
   "outputs": [
    {
     "data": {
      "text/markdown": [
       "Okay, let's dive into the fascinating world of Earth! Here's a comprehensive overview of our home planet:\n",
       "\n",
       "**Basic Facts:**\n",
       "\n",
       "*   **Name:** Earth (The only planet not named after a Greek or Roman deity)\n",
       "*   **Planet Type:** Terrestrial (rocky)\n",
       "*   **Distance from the Sun:** Third planet from the Sun (approximately 93 million miles or 150 million kilometers)\n",
       "*   **Diameter:** Approximately 7,918 miles (12,742 kilometers)\n",
       "*   **Circumference:** Approximately 24,901 miles (40,075 kilometers)\n",
       "*   **Mass:** Approximately 5.97 x 10^24 kg\n",
       "*   **Density:** 5.514 g/cm³ (the densest planet in our solar system)\n",
       "*   **Orbital Period:** 365.25 days (one year)\n",
       "*   **Rotation Period:** 23 hours, 56 minutes, and 4 seconds (one day)\n",
       "*   **Axis Tilt:** 23.5 degrees (responsible for our seasons)\n",
       "*   **Atmosphere:** Primarily nitrogen (78%), oxygen (21%), and small amounts of other gases like argon, carbon dioxide, and water vapor.\n",
       "*   **Magnetic Field:** Yes, generated by the movement of molten iron in the Earth's outer core.\n",
       "*   **Moons:** One (The Moon)\n",
       "*   **Rings:** None\n",
       "\n",
       "**Internal Structure:**\n",
       "\n",
       "Earth has a layered structure:\n",
       "\n",
       "*   **Inner Core:** Solid iron and nickel, extremely hot (around 5,200°C or 9,392°F) due to immense pressure.\n",
       "*   **Outer Core:** Liquid iron and nickel. The movement of this molten metal creates Earth's magnetic field.\n",
       "*   **Mantle:** The thickest layer, composed of silicate rocks rich in iron and magnesium. It is mostly solid, but it behaves like a very viscous fluid over long periods. The uppermost part of the mantle is partially molten (asthenosphere).\n",
       "*   **Crust:** The outermost layer, thin and rocky.  There are two types:\n",
       "    *   **Oceanic Crust:** Thinner (5-10 km), denser, and primarily made of basalt.\n",
       "    *   **Continental Crust:** Thicker (30-70 km), less dense, and made of a variety of rocks including granite.\n",
       "\n",
       "**Surface Features:**\n",
       "\n",
       "*   **Oceans:** Cover approximately 71% of the Earth's surface. They play a crucial role in regulating climate and supporting life.\n",
       "*   **Continents:** Large landmasses that make up the remaining 29% of the surface. They are constantly being reshaped by plate tectonics, erosion, and weathering.\n",
       "*   **Mountains:** Formed by tectonic forces, volcanism, or erosion.\n",
       "*   **Valleys:** Depressions in the Earth's surface, often carved by rivers or glaciers.\n",
       "*   **Deserts:** Arid regions with little precipitation.\n",
       "*   **Polar Ice Caps:** Large masses of ice found at the North and South Poles.\n",
       "\n",
       "**Key Characteristics and Processes:**\n",
       "\n",
       "*   **Plate Tectonics:** The Earth's crust is divided into several large plates that are constantly moving. This movement causes earthquakes, volcanic eruptions, and the formation of mountains.\n",
       "*   **Atmosphere:** Protects the Earth from harmful solar radiation, regulates temperature, and supports life.\n",
       "*   **Water Cycle:** The continuous movement of water between the oceans, atmosphere, and land.\n",
       "*   **Greenhouse Effect:** The trapping of heat by certain gases in the atmosphere, which helps to keep the Earth warm enough to support life. However, an excess of greenhouse gases can lead to global warming.\n",
       "*   **Magnetic Field:** Shields the Earth from harmful solar wind, protecting the atmosphere and life on the surface.\n",
       "*   **Seasons:** Caused by the Earth's axial tilt and its orbit around the Sun.\n",
       "\n",
       "**Life on Earth:**\n",
       "\n",
       "*   Earth is the only known planet to harbor life.\n",
       "*   Life is incredibly diverse, ranging from microscopic bacteria to giant whales.\n",
       "*   Life is thought to have originated in the oceans billions of years ago.\n",
       "*   Humans are a relatively recent addition to the planet, but our impact on the environment has been significant.\n",
       "\n",
       "**Unique Aspects of Earth:**\n",
       "\n",
       "*   **Liquid Water:** Earth is the only planet in our solar system with a significant amount of liquid water on its surface, essential for life as we know it.\n",
       "*   **Oxygen-Rich Atmosphere:** The abundance of oxygen in Earth's atmosphere is a direct result of photosynthesis by plants and algae.\n",
       "*   **Plate Tectonics:** This process is unique to Earth and plays a vital role in regulating the planet's temperature and chemistry.\n",
       "*   **Habitable Zone:** Earth is located within the Sun's habitable zone, meaning that temperatures are just right for liquid water to exist on the surface.\n",
       "\n",
       "**Challenges Facing Earth:**\n",
       "\n",
       "*   **Climate Change:** Rising global temperatures due to increased greenhouse gas emissions.\n",
       "*   **Pollution:** Air, water, and land pollution are threatening the health of ecosystems and human populations.\n",
       "*   **Deforestation:** The clearing of forests for agriculture and other purposes is leading to habitat loss and climate change.\n",
       "*   **Resource Depletion:** The overuse of natural resources, such as fossil fuels and minerals, is unsustainable.\n",
       "*   **Biodiversity Loss:** The extinction of species is occurring at an alarming rate.\n",
       "\n",
       "**In Conclusion:**\n",
       "\n",
       "Earth is a dynamic and complex planet with a unique combination of features that make it habitable. It's a planet teeming with life, constantly changing, and facing significant challenges. Understanding our planet is crucial for ensuring its long-term sustainability and the well-being of future generations.\n",
       "\n",
       "Is there anything specific you would like to know more about?  For example, are you interested in:\n",
       "\n",
       "*   The history of Earth?\n",
       "*   The geology of Earth?\n",
       "*   Specific ecosystems on Earth?\n",
       "*   The impact of humans on Earth?\n",
       "*   Future prospects for Earth?\n"
      ],
      "text/plain": [
       "<IPython.core.display.Markdown object>"
      ]
     },
     "metadata": {},
     "output_type": "display_data"
    }
   ],
   "source": [
    "prompt = \"Tell me about Earth\"\n",
    "\n",
    "response = client.models.generate_content(model=MODEL_ID, contents=prompt)\n",
    "display(Markdown(response.text))"
   ]
  },
  {
   "cell_type": "markdown",
   "metadata": {
    "id": "4iyvEbteZnFL"
   },
   "source": [
    "✅ Recommended. The prompt below is specific and well-defined."
   ]
  },
  {
   "cell_type": "code",
   "execution_count": 11,
   "metadata": {
    "id": "JQ80z8urZnne",
    "tags": []
   },
   "outputs": [
    {
     "data": {
      "text/markdown": [
       "Okay, here's a list of features that make Earth unique compared to the other planets in our solar system, and even to many exoplanets we've discovered (though the list of exoplanets is constantly growing, so some of these *might* eventually be found elsewhere):\n",
       "\n",
       "**Key Features Supporting Life:**\n",
       "\n",
       "*   **Liquid Water on the Surface:** This is arguably the most crucial. Earth is the only planet in our solar system with stable bodies of liquid water on its surface. Water is essential for all known life.\n",
       "*   **Oxygen-Rich Atmosphere:** Earth's atmosphere is composed of roughly 21% oxygen. This is a direct result of photosynthesis by plants and algae and is crucial for complex, multicellular life as we know it.\n",
       "*   **Ozone Layer:** This layer of the atmosphere filters out harmful ultraviolet radiation from the sun, protecting life on the surface.\n",
       "*   **Stable Temperature Range:** Earth's distance from the sun, coupled with its atmosphere, allows for a relatively stable temperature range that is conducive to liquid water and life.\n",
       "*   **Plate Tectonics:** The Earth's crust is divided into plates that move and interact. This process recycles materials, regulates the climate over long timescales, and contributes to the carbon cycle.\n",
       "*   **Strong Magnetic Field:** Generated by the Earth's core, the magnetic field deflects harmful solar wind, protecting the atmosphere and life on the surface.\n",
       "\n",
       "**Geological and Physical Features:**\n",
       "\n",
       "*   **Active Geology:** Earth is geologically active, with volcanoes, earthquakes, and plate tectonics constantly reshaping the surface. Other planets, like Mars, show evidence of past geological activity, but are largely considered dormant.\n",
       "*   **A Single, Relatively Large Moon:** Our moon is unusually large compared to Earth. It stabilizes Earth's axial tilt, influencing the seasons and tides. The moon also played a vital part in creating Earth's oceans.\n",
       "*   **Complex Ecosystems:** Earth is home to an incredibly diverse range of ecosystems, from rainforests to deserts to oceans, each teeming with life.\n",
       "*   **Abundant Biodiversity:** Earth boasts an unparalleled level of biodiversity compared to any other known planet.\n",
       "*   **Presence of Life (as far as we know):** While we're actively searching for life elsewhere, Earth is the only planet where we've confirmed its existence.\n",
       "*   **Significant amounts of Surface Water:** While there may be evidence of subsurface water on other planets, Earth is unique in the amount of surface water it possesses.\n",
       "*   **Dynamic Weather Patterns:** Earth's atmosphere and oceans interact to create diverse and dynamic weather patterns, including clouds, rain, wind, and storms.\n",
       "\n",
       "**Other Considerations:**\n",
       "\n",
       "*   **Complex Carbon Cycle:** The movement of carbon between the atmosphere, oceans, land, and living organisms is crucial for regulating Earth's climate.\n",
       "*   **Presence of Intelligent Life:** While perhaps not a universally desired feature, the existence of humans and other intelligent species is a unique characteristic of Earth.\n",
       "*   **Habitable Zone Location:** Earth sits squarely within the Sun's habitable zone, the region where temperatures are just right for liquid water to exist on a planet's surface.\n",
       "*   **Atmospheric Composition:** The specific mix of gases in Earth's atmosphere is unique, even compared to other planets with atmospheres.\n",
       "*   **Global Scale Photosynthesis:** The level of photosynthesis occurring on Earth generates oxygen and removes carbon dioxide in significant amounts, shaping the planet's atmosphere and climate.\n",
       "\n",
       "**Important Notes:**\n",
       "\n",
       "*   **Ongoing Discoveries:** Our understanding of planets, both within our solar system and beyond, is constantly evolving. New discoveries could challenge some of these \"unique\" aspects of Earth.\n",
       "*   **Definition of \"Unique\":** Some of these features might exist in varying degrees on other planets, but the combination of all these factors makes Earth exceptionally special.\n",
       "*   **Perspective:** It's important to remember that we're viewing this from an Earth-centric perspective. Life on other planets might evolve in ways completely different from what we know.\n",
       "\n",
       "This list should give you a good overview of what makes Earth a truly remarkable and potentially unique place in the universe.\n"
      ],
      "text/plain": [
       "<IPython.core.display.Markdown object>"
      ]
     },
     "metadata": {},
     "output_type": "display_data"
    }
   ],
   "source": [
    "prompt = \"Generate a list of ways that makes Earth unique compared to other planets\"\n",
    "\n",
    "response = client.models.generate_content(model=MODEL_ID, contents=prompt)\n",
    "display(Markdown(response.text))"
   ]
  },
  {
   "cell_type": "markdown",
   "metadata": {
    "id": "R5kmfZYHZsJ7"
   },
   "source": [
    "### Ask one task at a time"
   ]
  },
  {
   "cell_type": "markdown",
   "metadata": {
    "id": "rsAezxeYZuUN"
   },
   "source": [
    "🛑 Not recommended. The prompt below has two parts to the question that could be asked separately."
   ]
  },
  {
   "cell_type": "code",
   "execution_count": 12,
   "metadata": {
    "id": "ElywPXpuZtWf",
    "tags": []
   },
   "outputs": [
    {
     "data": {
      "text/markdown": [
       "Let's break down both questions:\n",
       "\n",
       "**Best Method of Boiling Water**\n",
       "\n",
       "\"Best\" depends on your priorities:\n",
       "\n",
       "*   **Fastest:** An **electric kettle** generally boils water the fastest, especially if it's a high-wattage model. Induction cooktops can also be very fast.\n",
       "*   **Most Energy Efficient:** An **electric kettle** again often wins. They are designed to heat only the water in the kettle and often have auto-shutoff features, minimizing energy waste.  A close second would be boiling water in a pot with a **lid** over an electric stove or induction cooktop. A lid traps heat and reduces energy loss.\n",
       "*   **Most Versatile (for Cooking):** A **pot on a stovetop** (gas, electric, or induction) is the most versatile because you can easily add ingredients, adjust heat, and control the cooking process.\n",
       "*   **Most Convenient (for Camping/Off-Grid):** A **portable gas stove** or a **camping stove** using propane/butane is best for outdoor situations.\n",
       "*   **Most Cost-Effective (Potentially):** If you already have a gas stovetop, that may be the most cost-effective upfront (since you don't need to buy a new appliance). However, in the long run, an electric kettle might save money on energy bills if used frequently.\n",
       "\n",
       "**In summary, for most people, an electric kettle is the best combination of speed, efficiency, and convenience.**  However, the ideal method depends on your individual needs and circumstances.\n",
       "\n",
       "**Why the Sky is Blue**\n",
       "\n",
       "The sky is blue due to a phenomenon called **Rayleigh scattering**. Here's the breakdown:\n",
       "\n",
       "1.  **Sunlight and its Colors:** Sunlight appears white, but it's actually made up of all the colors of the rainbow.\n",
       "\n",
       "2.  **Entering the Atmosphere:** When sunlight enters the Earth's atmosphere, it collides with tiny air molecules (mostly nitrogen and oxygen).\n",
       "\n",
       "3.  **Scattering of Light:** This collision causes the light to scatter in different directions.\n",
       "\n",
       "4.  **Rayleigh Scattering Favors Blue:** Rayleigh scattering is more effective at scattering shorter wavelengths of light. Blue and violet light have shorter wavelengths than red, orange, and yellow light.\n",
       "\n",
       "5.  **Why Not Violet?**  While violet light is scattered even *more* than blue, there are two main reasons we see a blue sky:\n",
       "\n",
       "    *   **Sunlight's Spectrum:** The sun emits less violet light than blue light.\n",
       "    *   **Our Eyes:** Our eyes are more sensitive to blue light than violet light.\n",
       "\n",
       "**Therefore, we see the sky as blue because blue light is scattered by the atmosphere much more effectively than other colors.**\n",
       "\n",
       "**Bonus: Why Sunsets are Red/Orange**\n",
       "\n",
       "At sunset, the sunlight has to travel through much more of the atmosphere to reach our eyes.  This means that most of the blue light has already been scattered away.  The longer wavelengths (red and orange) are less easily scattered, so they are the dominant colors that reach our eyes, creating the beautiful sunset colors.\n"
      ],
      "text/plain": [
       "<IPython.core.display.Markdown object>"
      ]
     },
     "metadata": {},
     "output_type": "display_data"
    }
   ],
   "source": [
    "prompt = \"What's the best method of boiling water and why is the sky blue?\"\n",
    "\n",
    "response = client.models.generate_content(model=MODEL_ID, contents=prompt)\n",
    "display(Markdown(response.text))"
   ]
  },
  {
   "cell_type": "markdown",
   "metadata": {
    "id": "ejzahazBZ8vk"
   },
   "source": [
    "✅ Recommended. The prompts below asks one task a time."
   ]
  },
  {
   "cell_type": "code",
   "execution_count": 13,
   "metadata": {
    "id": "C5ckp2F0Z_Ba",
    "tags": []
   },
   "outputs": [
    {
     "data": {
      "text/markdown": [
       "The \"best\" method of boiling water depends on your priorities: speed, energy efficiency, convenience, or availability. Here's a breakdown of the most common methods and their pros and cons:\n",
       "\n",
       "**1. Electric Kettle:**\n",
       "\n",
       "*   **Pros:**\n",
       "    *   **Fastest:** Generally the fastest way to boil small to medium amounts of water (up to a liter or two).\n",
       "    *   **Convenient:** Very easy to use - just fill, press a button, and it shuts off automatically.\n",
       "    *   **Relatively Energy Efficient:** Heats only the water you need.\n",
       "    *   **Safe:** Most have automatic shut-off to prevent boiling dry and overheating.\n",
       "    *   **Clean:** No soot or open flame.\n",
       "\n",
       "*   **Cons:**\n",
       "    *   **Requires Electricity:** Useless without power.\n",
       "    *   **Limited Capacity:** Usually limited to a few liters.\n",
       "    *   **Can be Noisy:** Some kettles are louder than others.\n",
       "\n",
       "**2. Stovetop Kettle:**\n",
       "\n",
       "*   **Pros:**\n",
       "    *   **Versatile:** Works on gas, electric, or induction stovetops.\n",
       "    *   **Relatively Fast:** Can be faster than a microwave, depending on the stove and kettle.\n",
       "    *   **Good for Larger Amounts:** Can boil larger quantities of water than an electric kettle.\n",
       "    *   **No Electricity Required (Gas Stovetop):** Useful in power outages.\n",
       "\n",
       "*   **Cons:**\n",
       "    *   **Requires Monitoring:** You need to watch it to prevent boiling dry.\n",
       "    *   **Can be Less Energy Efficient:** Stovetop burners often heat a larger area than just the kettle base.\n",
       "    *   **Potentially Less Safe:** Need to be careful handling hot kettle and avoiding steam burns.\n",
       "\n",
       "**3. Microwave:**\n",
       "\n",
       "*   **Pros:**\n",
       "    *   **Fast (For Small Amounts):** Very quick for boiling small amounts (e.g., one cup).\n",
       "    *   **Convenient:** Easy to use, especially for single servings.\n",
       "\n",
       "*   **Cons:**\n",
       "    *   **Uneven Heating:** Can lead to \"superheating,\" where the water becomes hotter than its boiling point but doesn't boil, then suddenly erupts when disturbed. **Always use a microwave-safe container and stir the water after heating.**\n",
       "    *   **Not Ideal for Large Amounts:** Less efficient for boiling large volumes.\n",
       "    *   **Potentially Dangerous:** Superheating can cause burns.\n",
       "    *   **Not Energy Efficient:** Can waste energy if you're only boiling a small amount.\n",
       "\n",
       "**4. Pot on a Stovetop:**\n",
       "\n",
       "*   **Pros:**\n",
       "    *   **Versatile:** Works on any stovetop.\n",
       "    *   **Largest Capacity:** Can boil large quantities of water.\n",
       "    *   **No Special Equipment Needed:** Just a pot you already own.\n",
       "\n",
       "*   **Cons:**\n",
       "    *   **Slowest:** Generally the slowest method.\n",
       "    *   **Least Energy Efficient:** Wastes the most energy.\n",
       "    *   **Requires Monitoring:** You need to watch it to prevent boiling dry.\n",
       "\n",
       "**5. Over a Campfire (or other open fire):**\n",
       "\n",
       "*   **Pros:**\n",
       "    *   **Useful in Emergency Situations:** When you have no other power source.\n",
       "    *   **Good for Outdoor Cooking:** Camping, etc.\n",
       "\n",
       "*   **Cons:**\n",
       "    *   **Slowest:** Very slow and inefficient.\n",
       "    *   **Requires Constant Monitoring:** Need to tend the fire.\n",
       "    *   **Can be Difficult to Control Temperature:** Hard to regulate the heat.\n",
       "    *   **Can Introduce Soot/Ash:**  The water may become contaminated.\n",
       "\n",
       "**Summary Table:**\n",
       "\n",
       "| Method             | Speed      | Energy Efficiency | Convenience | Capacity   | Pros                                                                                                  | Cons                                                                                               |\n",
       "|----------------------|------------|-------------------|-------------|------------|--------------------------------------------------------------------------------------------------------|---------------------------------------------------------------------------------------------------|\n",
       "| Electric Kettle    | Fastest    | Highest             | Highest     | Small-Med   | Fast, convenient, energy-efficient, safe                                                              | Requires electricity, limited capacity, can be noisy                                                  |\n",
       "| Stovetop Kettle    | Fast       | Medium              | Medium      | Med-Large   | Versatile, relatively fast, good for larger amounts, no electricity needed (gas)                         | Requires monitoring, less energy-efficient, potentially less safe                                  |\n",
       "| Microwave          | Fast (Small)| Low                | High        | Small      | Fast for small amounts, convenient                                                                      | Uneven heating, not ideal for large amounts, potentially dangerous (superheating), not energy-efficient |\n",
       "| Pot on Stovetop    | Slowest    | Lowest              | Low         | Large      | Versatile, largest capacity, no special equipment needed                                                | Slowest, least energy-efficient, requires monitoring                                              |\n",
       "| Campfire/Open Fire | Very Slow   | Very Low          | Very Low    | Variable   | Useful in emergencies, good for outdoor cooking                                                           | Slowest, requires constant monitoring, difficult to control temperature, soot/ash contamination       |\n",
       "\n",
       "**Therefore, for most people in most situations, an electric kettle is the best method for boiling water.** It's fast, efficient, convenient, and safe. However, if you need to boil a very large quantity of water or if you don't have access to electricity, other methods might be more appropriate.\n"
      ],
      "text/plain": [
       "<IPython.core.display.Markdown object>"
      ]
     },
     "metadata": {},
     "output_type": "display_data"
    }
   ],
   "source": [
    "prompt = \"What's the best method of boiling water?\"\n",
    "\n",
    "response = client.models.generate_content(model=MODEL_ID, contents=prompt)\n",
    "display(Markdown(response.text))"
   ]
  },
  {
   "cell_type": "code",
   "execution_count": 14,
   "metadata": {
    "id": "KwUzhud4aA89",
    "tags": []
   },
   "outputs": [
    {
     "data": {
      "text/markdown": [
       "The sky is blue due to a phenomenon called **Rayleigh scattering**. Here's a breakdown:\n",
       "\n",
       "*   **Sunlight and Colors:** Sunlight is actually made up of all the colors of the rainbow.\n",
       "\n",
       "*   **Entering the Atmosphere:** When sunlight enters the Earth's atmosphere, it collides with tiny air molecules (mostly nitrogen and oxygen).\n",
       "\n",
       "*   **Scattering:** This collision causes the sunlight to scatter in different directions.\n",
       "\n",
       "*   **Rayleigh Scattering Explained:**\n",
       "    *   **Shorter Wavelengths Scatter More:** Rayleigh scattering is more effective at scattering shorter wavelengths of light. Blue and violet light have shorter wavelengths than other colors like red and orange.\n",
       "    *   **Why Not Violet?** While violet light is scattered even more than blue, our eyes are less sensitive to violet, and there's also less violet light in sunlight to begin with. Therefore, we perceive the sky as blue.\n",
       "\n",
       "*   **Why Sunsets are Red:** At sunrise and sunset, the sunlight has to travel through more of the atmosphere to reach our eyes. This means that the blue light has been scattered away almost completely by the time it reaches us. The longer wavelengths, like red and orange, are able to pass through the atmosphere more easily, which is why we see those colors during sunsets and sunrises.\n",
       "\n",
       "In summary, the blue color of the sky is due to the scattering of shorter wavelengths of sunlight by air molecules in the atmosphere.\n",
       "\n"
      ],
      "text/plain": [
       "<IPython.core.display.Markdown object>"
      ]
     },
     "metadata": {},
     "output_type": "display_data"
    }
   ],
   "source": [
    "prompt = \"Why is the sky blue?\"\n",
    "\n",
    "response = client.models.generate_content(model=MODEL_ID, contents=prompt)\n",
    "display(Markdown(response.text))"
   ]
  },
  {
   "cell_type": "markdown",
   "metadata": {
    "id": "PJIL2RTQaGcT"
   },
   "source": [
    "### Watch out for hallucinations"
   ]
  },
  {
   "cell_type": "markdown",
   "metadata": {
    "id": "8Y8kYxrSaHE9"
   },
   "source": [
    "Although LLMs have been trained on a large amount of data, they can generate text containing statements not grounded in truth or reality; these responses from the LLM are often referred to as \"hallucinations\" due to their limited memorization capabilities. Note that simply prompting the LLM to provide a citation isn't a fix to this problem, as there are instances of LLMs providing false or inaccurate citations. Dealing with hallucinations is a fundamental challenge of LLMs and an ongoing research area, so it is important to be cognizant that LLMs may seem to give you confident, correct-sounding statements that are in fact incorrect.\n",
    "\n",
    "Note that if you intend to use LLMs for the creative use cases, hallucinating could actually be quite useful."
   ]
  },
  {
   "cell_type": "markdown",
   "metadata": {
    "id": "8NY5nAGeaJYS"
   },
   "source": [
    "Try the prompt like the one below repeatedly. We set the temperature to `1.0` so that it takes more risks in its choices. It's possible that it may provide an inaccurate, but confident answer."
   ]
  },
  {
   "cell_type": "code",
   "execution_count": 15,
   "metadata": {
    "id": "QALPjEILaM62",
    "tags": []
   },
   "outputs": [
    {
     "data": {
      "text/markdown": [
       "Today is Sunday, October 15, 2023.\n"
      ],
      "text/plain": [
       "<IPython.core.display.Markdown object>"
      ]
     },
     "metadata": {},
     "output_type": "display_data"
    }
   ],
   "source": [
    "generation_config = GenerateContentConfig(temperature=1.0)\n",
    "\n",
    "prompt = \"What day is it today?\"\n",
    "\n",
    "response = client.models.generate_content(model=MODEL_ID, contents=prompt)\n",
    "display(Markdown(response.text))"
   ]
  },
  {
   "cell_type": "markdown",
   "metadata": {
    "id": "BRkwzbgRbhKt"
   },
   "source": [
    "Since LLMs do not have access to real-time information without further integrations, you may have noticed it hallucinates what day it is today in some of the outputs."
   ]
  },
  {
   "cell_type": "markdown",
   "metadata": {},
   "source": [
    "## Reduce Output Variability"
   ]
  },
  {
   "cell_type": "markdown",
   "metadata": {
    "id": "3c811e310d02"
   },
   "source": [
    "### Using system instructions to guardrail the model from irrelevant responses\n",
    "\n",
    "How can we attempt to reduce the chances of irrelevant responses and hallucinations?\n",
    "\n",
    "One way is to provide the LLM with [system instructions](https://cloud.google.com/vertex-ai/generative-ai/docs/multimodal/send-chat-prompts-gemini#system-instructions).\n",
    "\n",
    "Let's see how system instructions works and how you can use them to reduce hallucinations or irrelevant questions for a travel chatbot.\n",
    "\n",
    "Suppose we ask a simple question about one of Italy's most famous tourist spots."
   ]
  },
  {
   "cell_type": "code",
   "execution_count": 16,
   "metadata": {
    "id": "rB6zJU76biFK",
    "tags": []
   },
   "outputs": [
    {
     "data": {
      "text/markdown": [
       "The Duomo di Milano, the Galleria Vittorio Emanuele II, and the Teatro alla Scala are famous sightseeing locations in Milan, Italy. Would you like me to provide more details on these or other locations?\n"
      ],
      "text/plain": [
       "<IPython.core.display.Markdown object>"
      ]
     },
     "metadata": {},
     "output_type": "display_data"
    }
   ],
   "source": [
    "generation_config = GenerateContentConfig(temperature=1.0)\n",
    "\n",
    "chat = client.chats.create(\n",
    "    model=MODEL_ID,\n",
    "    config=GenerateContentConfig(\n",
    "        system_instruction=[\n",
    "            \"Hello! You are an AI chatbot for a travel web site.\",\n",
    "            \"Your mission is to provide helpful queries for travelers.\",\n",
    "            \"Remember that before you answer a question, you must check to see if it complies with your mission.\",\n",
    "            \"If not, you can say, Sorry I can't answer that question.\",\n",
    "        ]\n",
    "    ),\n",
    ")\n",
    "\n",
    "prompt = \"What is the best place for sightseeing in Milan, Italy?\"\n",
    "\n",
    "response = chat.send_message(prompt)\n",
    "display(Markdown(response.text))"
   ]
  },
  {
   "cell_type": "markdown",
   "metadata": {
    "id": "WZa-Qcf9cF4A"
   },
   "source": [
    "Now let us pretend to be a user asks the chatbot a question that is unrelated to travel."
   ]
  },
  {
   "cell_type": "code",
   "execution_count": 17,
   "metadata": {
    "id": "AZKBIDr2cGnu",
    "tags": []
   },
   "outputs": [
    {
     "data": {
      "text/markdown": [
       "The Duomo di Milano, the Galleria Vittorio Emanuele II, and the Teatro alla Scala are famous sightseeing locations in Milan, Italy. Would you like me to provide more details on these or other locations?\n"
      ],
      "text/plain": [
       "<IPython.core.display.Markdown object>"
      ]
     },
     "metadata": {},
     "output_type": "display_data"
    }
   ],
   "source": [
    "prompt = \"What is the best place for sightseeing in Milan, Italy?\"\n",
    "\n",
    "response = chat.send_message(prompt)\n",
    "display(Markdown(response.text))"
   ]
  },
  {
   "cell_type": "markdown",
   "metadata": {
    "id": "JiUYIhwpctCy"
   },
   "source": [
    "You can see that this way, a guardrail in the prompt prevented the chatbot from veering off course."
   ]
  },
  {
   "cell_type": "markdown",
   "metadata": {
    "id": "ZuuDhA37cvmP"
   },
   "source": [
    "### Turn generative tasks into classification tasks to reduce output variability"
   ]
  },
  {
   "cell_type": "markdown",
   "metadata": {
    "id": "kUCUrsUzczmb"
   },
   "source": [
    "#### Generative tasks lead to higher output variability"
   ]
  },
  {
   "cell_type": "markdown",
   "metadata": {
    "id": "a1xASHAkc46n"
   },
   "source": [
    "The prompt below results in an open-ended response, useful for brainstorming, but response is highly variable."
   ]
  },
  {
   "cell_type": "code",
   "execution_count": 18,
   "metadata": {
    "id": "nPfXQWIacwRf",
    "tags": []
   },
   "outputs": [
    {
     "data": {
      "text/markdown": [
       "Okay, to give you the best recommendation, I need a little more information.  Tell me:\n",
       "\n",
       "1.  **What programming languages do you already know (even just a little bit)?**  (e.g., Python, JavaScript, Java, C++, HTML/CSS)\n",
       "2.  **What are you interested in?** (e.g., game development, web development, data science, robotics, security)\n",
       "3.  **What's your skill level?** (Beginner, Intermediate, Advanced)  Be honest!\n",
       "4.  **How much time do you have to dedicate to this project?** (e.g., a few hours a week, a dedicated weekend, a summer project)\n",
       "\n",
       "In the meantime, here are a few options, ranging from relatively simple to more complex, and covering different areas.  These are all designed to be achievable and rewarding for a high school student:\n",
       "\n",
       "**Beginner-Friendly (Good for solidifying fundamental skills):**\n",
       "\n",
       "*   **1.  Simple Text-Based Game (Python):**\n",
       "    *   **Concept:** Create a text-based adventure game where the user makes choices that affect the story.\n",
       "    *   **Skills:**  `Input/Output`, `if/else` statements, `loops`, `variables`, basic `string manipulation`.\n",
       "    *   **Example:** A \"choose your own adventure\" where you explore a haunted house.\n",
       "    *   **Why it's good:**  Engaging, reinforces fundamental programming concepts, doesn't require complex libraries.\n",
       "    *   **Advancement:** You can make it a graphical game using Pygame, Tkinter or another framework.\n",
       "\n",
       "*   **2.  Basic Webpage with To-Do List (HTML, CSS, JavaScript):**\n",
       "    *   **Concept:** Build a simple webpage that allows users to add, delete, and mark tasks as complete.\n",
       "    *   **Skills:**  `HTML` (structure), `CSS` (styling), `JavaScript` (interactivity - DOM manipulation).\n",
       "    *   **Example:**  A classic to-do list.\n",
       "    *   **Why it's good:** Great intro to web development, practical, and you see immediate visual results.\n",
       "    *   **Advancement:** You could try connecting it to a database to store your todo items, or using a framework like React.\n",
       "\n",
       "*   **3.  Temperature Converter (Python, Java, JavaScript):**\n",
       "    *   **Concept:**  A program that takes a temperature in Celsius or Fahrenheit as input and converts it to the other unit.\n",
       "    *   **Skills:**  `Input/Output`, `basic arithmetic`, `if/else` statements.\n",
       "    *   **Why it's good:** Simple, focused, and reinforces basic math operations and conditional logic.\n",
       "    *   **Advancement:** Build a graphical user interface (GUI) with Tkinter (Python) or Swing (Java).\n",
       "\n",
       "**Intermediate (Requires some existing knowledge and more complex problem-solving):**\n",
       "\n",
       "*   **4.  Simple Calculator (Python, Java, JavaScript):**\n",
       "    *   **Concept:** Build a calculator that can perform basic arithmetic operations (+, -, *, /) and handle user input.\n",
       "    *   **Skills:**  `Input/Output`, `functions`, `error handling` (e.g., division by zero), `order of operations` (optional).\n",
       "    *   **Why it's good:**  Requires more structured code and handling potential errors.\n",
       "    *   **Advancement:**  Add more advanced functions like square root, exponents, or trigonometric functions.\n",
       "    *   **Advancement (web):** Create a calculator web application.\n",
       "\n",
       "*   **5.  Data Analysis with a CSV file (Python with Pandas):**\n",
       "    *   **Concept:**  Download a CSV dataset (e.g., from Kaggle or a government data portal) and use Python with the Pandas library to analyze it.\n",
       "    *   **Skills:** `Data manipulation`, `data cleaning`, `data visualization`, `statistics`.\n",
       "    *   **Example:** Analyze a dataset of housing prices to find the average price per square foot in different neighborhoods.\n",
       "    *   **Why it's good:** Introduces data analysis and data visualization skills, important for many fields.\n",
       "\n",
       "*   **6.  Basic Mobile App (using a platform like MIT App Inventor):**\n",
       "    *   **Concept:** Create a simple app for Android (or iOS if you have a Mac) using a visual programming environment like MIT App Inventor.\n",
       "    *   **Skills:**  Logic, UI design, event handling.\n",
       "    *   **Example:**  A simple game, a quiz app, or a personal information tracker.\n",
       "    *   **Why it's good:**  Easy to get started with and see results on your phone.\n",
       "\n",
       "**More Advanced (Requires more in-depth knowledge and problem-solving):**\n",
       "\n",
       "*   **7.  Web Scraper (Python with Beautiful Soup/Scrapy):**\n",
       "    *   **Concept:**  Write a program that automatically extracts data from a website.  Be sure to respect the website's `robots.txt` file and terms of service.\n",
       "    *   **Skills:**  `HTTP requests`, `HTML parsing`, `data extraction`.\n",
       "    *   **Example:**  Scrape product prices from an e-commerce website or extract news headlines from a news site.\n",
       "    *   **Why it's good:**  Practical application of programming, teaches you how to interact with web services.\n",
       "\n",
       "*   **8.  Machine Learning Model (Python with scikit-learn):**\n",
       "    *   **Concept:** Build a simple machine learning model, such as a linear regression or a classification model.\n",
       "    *   **Skills:**  `Data preprocessing`, `model training`, `model evaluation`.\n",
       "    *   **Example:**  Train a model to predict housing prices or classify images.\n",
       "    *   **Why it's good:** Introduces machine learning concepts, which are highly in demand.\n",
       "\n",
       "*   **9.  Contribute to Open Source:**\n",
       "    *   **Concept:** Find an open-source project on GitHub that interests you and contribute to it.\n",
       "    *   **Skills:**  `Version control (Git)`, `collaboration`, `code review`.\n",
       "    *   **Why it's good:**  Real-world experience working on a large project with other developers.  Looks great on a resume.  (Start with small contributions like documentation fixes or bug reports.)\n",
       "\n",
       "**Key Considerations Before Choosing:**\n",
       "\n",
       "*   **Start Small:** Don't try to tackle a huge project right away.  Break it down into smaller, manageable tasks.\n",
       "*   **Focus on Learning:** The goal is to learn and improve your skills, not just to finish the project.  Don't be afraid to experiment and try new things.\n",
       "*   **Use Resources:**  There are tons of online resources available, including documentation, tutorials, and forums.  Don't be afraid to ask for help.\n",
       "*   **Stay Motivated:** Choose a project that you are genuinely interested in. This will help you stay motivated and engaged.\n",
       "\n",
       "**After you tell me more about your current skills and interests, I can provide a more tailored recommendation!**\n"
      ],
      "text/plain": [
       "<IPython.core.display.Markdown object>"
      ]
     },
     "metadata": {},
     "output_type": "display_data"
    }
   ],
   "source": [
    "prompt = \"I'm a high school student. Recommend me a programming activity to improve my skills.\"\n",
    "\n",
    "response = client.models.generate_content(model=MODEL_ID, contents=prompt)\n",
    "display(Markdown(response.text))"
   ]
  },
  {
   "cell_type": "markdown",
   "metadata": {
    "id": "iAmm9wPYc_1o"
   },
   "source": [
    "#### Classification tasks reduces output variability"
   ]
  },
  {
   "cell_type": "markdown",
   "metadata": {
    "id": "VvRpK_0GdCpf"
   },
   "source": [
    "The prompt below results in a choice and may be useful if you want the output to be easier to control."
   ]
  },
  {
   "cell_type": "code",
   "execution_count": 19,
   "metadata": {
    "id": "kYDKh0r2dAqo",
    "tags": []
   },
   "outputs": [
    {
     "data": {
      "text/markdown": [
       "For a high school student, I strongly recommend choosing **a) Learn Python** or **b) Learn JavaScript** over Fortran. Here's a breakdown of why, with pros and cons for each:\n",
       "\n",
       "**1. Python (Highly Recommended)**\n",
       "\n",
       "*   **Pros:**\n",
       "    *   **Beginner-Friendly:** Python has a relatively simple and readable syntax, making it easy to learn the basic concepts of programming.  It reads almost like English!\n",
       "    *   **Versatile:** Python is used in a wide range of applications, including web development (backend), data science, machine learning, scripting, automation, game development (Pygame), and more.  This makes it a great language to have for future career options.\n",
       "    *   **Large Community and Resources:**  There's a HUGE online community supporting Python. This means tons of tutorials, documentation, libraries, and support forums available to help you learn and troubleshoot.\n",
       "    *   **Practical Applications:** You can quickly build useful projects with Python, such as simple games, web scrapers, data analysis scripts, and even small machine learning models. This is very motivating.\n",
       "    *   **Good for Problem Solving:** Python encourages you to think logically and break down problems into smaller, manageable steps.\n",
       "    *   **Popular in Education:** Many universities and high schools use Python as an introductory programming language.\n",
       "\n",
       "*   **Cons:**\n",
       "    *   **Speed:** Python is generally slower than lower-level languages like C++ or Fortran, but this is usually not a concern for beginners or most common applications.\n",
       "    *   **Dynamic Typing:**  While often seen as a pro for beginners, Python's dynamic typing can lead to runtime errors if you're not careful.\n",
       "\n",
       "**2. JavaScript (Also a Good Choice, Especially for Web)**\n",
       "\n",
       "*   **Pros:**\n",
       "    *   **Ubiquitous on the Web:** JavaScript is *the* language of the web. If you want to create interactive websites or web applications, JavaScript is essential.\n",
       "    *   **Front-End and Back-End:** While traditionally a front-end language (running in the browser), JavaScript can also be used for back-end development with Node.js. This gives you the potential to become a full-stack developer.\n",
       "    *   **Large Community and Frameworks:** Like Python, JavaScript has a massive community and a wealth of frameworks and libraries (React, Angular, Vue.js, etc.) that can help you build complex web applications.\n",
       "    *   **Interactive and Visual:** JavaScript lets you create dynamic and visually appealing websites, making it engaging to learn and use.\n",
       "\n",
       "*   **Cons:**\n",
       "    *   **Can be Quirky:** JavaScript has some historical quirks and inconsistencies that can be confusing for beginners.\n",
       "    *   **Front-End Focus:** If you're not interested in web development, JavaScript might not be the best choice.\n",
       "    *   **Learning Curve:** The vast ecosystem of frameworks and libraries can be overwhelming at first.\n",
       "\n",
       "**3. Fortran (Not Recommended for a High School Student Starting Out)**\n",
       "\n",
       "*   **Pros:**\n",
       "    *   **High Performance for Scientific Computing:** Fortran is still used in specific areas of scientific computing and engineering where performance is critical (e.g., weather forecasting, computational fluid dynamics).\n",
       "    *   **Legacy Code:** A lot of existing scientific software is written in Fortran, so knowing it can be useful if you need to work with those older codes.\n",
       "\n",
       "*   **Cons:**\n",
       "    *   **Niche Language:** Fortran is a very specialized language with limited applications outside of scientific computing.\n",
       "    *   **Older Syntax:** Fortran's syntax is less modern and can be more difficult to learn compared to Python or JavaScript.\n",
       "    *   **Smaller Community:** The Fortran community is much smaller than the Python or JavaScript communities, making it harder to find resources and support.\n",
       "    *   **Less Relevance for Most Careers:** Unless you're specifically planning a career in scientific computing, Fortran is unlikely to be a valuable skill.\n",
       "\n",
       "**Which to Choose: Python vs. JavaScript**\n",
       "\n",
       "*   **Choose Python if:**\n",
       "    *   You're interested in data science, machine learning, scripting, automation, or general-purpose programming.\n",
       "    *   You want a language that's easy to learn and has a large community for support.\n",
       "    *   You prefer a language with a focus on readability and clear syntax.\n",
       "\n",
       "*   **Choose JavaScript if:**\n",
       "    *   You're passionate about web development and creating interactive websites.\n",
       "    *   You want to learn a language that's essential for front-end development and can also be used for back-end development.\n",
       "    *   You're willing to learn about frameworks and libraries to build complex web applications.\n",
       "\n",
       "**My overall recommendation is Python.** It's more versatile for a beginner and provides a solid foundation for further exploration in various areas of computer science. However, if you're certain you want to build websites, JavaScript is a strong contender.  Fortran should be avoided unless you have a specific need in scientific computing.\n",
       "\n",
       "No matter which language you choose, start with the basics, practice regularly, and build small projects to reinforce your learning. Good luck!\n"
      ],
      "text/plain": [
       "<IPython.core.display.Markdown object>"
      ]
     },
     "metadata": {},
     "output_type": "display_data"
    }
   ],
   "source": [
    "prompt = \"\"\"I'm a high school student. Which of these activities do you suggest and why:\n",
    "a) learn Python\n",
    "b) learn JavaScript\n",
    "c) learn Fortran\n",
    "\"\"\"\n",
    "\n",
    "response = client.models.generate_content(model=MODEL_ID, contents=prompt)\n",
    "display(Markdown(response.text))"
   ]
  },
  {
   "cell_type": "markdown",
   "metadata": {
    "id": "iTd60b1GdIsx"
   },
   "source": [
    "### Improve response quality by including examples"
   ]
  },
  {
   "cell_type": "markdown",
   "metadata": {
    "id": "yJi44NejdJYE"
   },
   "source": [
    "Another way to improve response quality is to add examples in your prompt. The LLM learns in-context from the examples on how to respond. Typically, one to five examples (shots) are enough to improve the quality of responses. Including too many examples can cause the model to over-fit the data and reduce the quality of responses.\n",
    "\n",
    "Similar to classical model training, the quality and distribution of the examples is very important. Pick examples that are representative of the scenarios that you need the model to learn, and keep the distribution of the examples (e.g. number of examples per class in the case of classification) aligned with your actual distribution."
   ]
  },
  {
   "cell_type": "markdown",
   "metadata": {
    "id": "sMbLginWdOKs"
   },
   "source": [
    "#### Zero-shot prompt"
   ]
  },
  {
   "cell_type": "markdown",
   "metadata": {
    "id": "Crh2Loi2dQ0v"
   },
   "source": [
    "Below is an example of zero-shot prompting, where you don't provide any examples to the LLM within the prompt itself."
   ]
  },
  {
   "cell_type": "code",
   "execution_count": 20,
   "metadata": {
    "id": "-7myRc-SdTQ4",
    "tags": []
   },
   "outputs": [
    {
     "data": {
      "text/markdown": [
       "Sentiment: Positive\n"
      ],
      "text/plain": [
       "<IPython.core.display.Markdown object>"
      ]
     },
     "metadata": {},
     "output_type": "display_data"
    }
   ],
   "source": [
    "prompt = \"\"\"Decide whether a Tweet's sentiment is positive, neutral, or negative.\n",
    "\n",
    "Tweet: I loved the new YouTube video you made!\n",
    "Sentiment:\n",
    "\"\"\"\n",
    "\n",
    "response = client.models.generate_content(model=MODEL_ID, contents=prompt)\n",
    "display(Markdown(response.text))"
   ]
  },
  {
   "cell_type": "markdown",
   "metadata": {
    "id": "ucRtPn9SdL64"
   },
   "source": [
    "#### One-shot prompt"
   ]
  },
  {
   "cell_type": "markdown",
   "metadata": {
    "id": "rs0gQH2vdYBi"
   },
   "source": [
    "Below is an example of one-shot prompting, where you provide one example to the LLM within the prompt to give some guidance on what type of response you want."
   ]
  },
  {
   "cell_type": "code",
   "execution_count": 21,
   "metadata": {
    "id": "iEq-KxGYdaT5",
    "tags": []
   },
   "outputs": [
    {
     "data": {
      "text/markdown": [
       "Sentiment: negative\n"
      ],
      "text/plain": [
       "<IPython.core.display.Markdown object>"
      ]
     },
     "metadata": {},
     "output_type": "display_data"
    }
   ],
   "source": [
    "prompt = \"\"\"Decide whether a Tweet's sentiment is positive, neutral, or negative.\n",
    "\n",
    "Tweet: I loved the new YouTube video you made!\n",
    "Sentiment: positive\n",
    "\n",
    "Tweet: That was awful. Super boring 😠\n",
    "Sentiment:\n",
    "\"\"\"\n",
    "\n",
    "response = client.models.generate_content(model=MODEL_ID, contents=prompt)\n",
    "display(Markdown(response.text))"
   ]
  },
  {
   "cell_type": "markdown",
   "metadata": {
    "id": "JnKLjJzmdfL_"
   },
   "source": [
    "#### Few-shot prompt"
   ]
  },
  {
   "cell_type": "markdown",
   "metadata": {
    "id": "6Zv-9F5OdgI_"
   },
   "source": [
    "Below is an example of few-shot prompting, where you provide a few examples to the LLM within the prompt to give some guidance on what type of response you want."
   ]
  },
  {
   "cell_type": "code",
   "execution_count": 22,
   "metadata": {
    "id": "u37P9tG4dk9S",
    "tags": []
   },
   "outputs": [
    {
     "data": {
      "text/markdown": [
       "Sentiment: positive\n"
      ],
      "text/plain": [
       "<IPython.core.display.Markdown object>"
      ]
     },
     "metadata": {},
     "output_type": "display_data"
    }
   ],
   "source": [
    "\n",
    "prompt = \"\"\"Decide whether a Tweet's sentiment is positive, neutral, or negative.\n",
    "\n",
    "Tweet: I loved the new YouTube video you made!\n",
    "Sentiment: positive\n",
    "\n",
    "Tweet: That was awful. Super boring 😠\n",
    "Sentiment: negative\n",
    "\n",
    "Tweet: Something surprised me about this video - it was actually original. It was not the same old recycled stuff that I always see. Watch it - you will not regret it.\n",
    "Sentiment:\n",
    "\"\"\"\n",
    "\n",
    "response = client.models.generate_content(model=MODEL_ID, contents=prompt)\n",
    "display(Markdown(response.text))"
   ]
  },
  {
   "cell_type": "markdown",
   "metadata": {
    "id": "wDMD3xb2dvX6"
   },
   "source": [
    "#### Choosing between zero-shot, one-shot, few-shot prompting methods"
   ]
  },
  {
   "cell_type": "markdown",
   "metadata": {
    "id": "s92W0YpNdxJp"
   },
   "source": [
    "Which prompt technique to use will solely depends on your goal. The zero-shot prompts are more open-ended and can give you creative answers, while one-shot and few-shot prompts teach the model how to behave so you can get more predictable answers that are consistent with the examples provided."
   ]
  },
  {
   "cell_type": "code",
   "execution_count": null,
   "metadata": {},
   "outputs": [],
   "source": []
  },
  {
   "cell_type": "code",
   "execution_count": null,
   "metadata": {},
   "outputs": [],
   "source": []
  },
  {
   "cell_type": "code",
   "execution_count": null,
   "metadata": {},
   "outputs": [],
   "source": []
  },
  {
   "cell_type": "code",
   "execution_count": null,
   "metadata": {},
   "outputs": [],
   "source": []
  }
 ],
 "metadata": {
  "colab": {
   "name": "intro_prompt_design.ipynb",
   "toc_visible": true
  },
  "environment": {
   "kernel": "conda-base-py",
   "name": "workbench-notebooks.m129",
   "type": "gcloud",
   "uri": "us-docker.pkg.dev/deeplearning-platform-release/gcr.io/workbench-notebooks:m129"
  },
  "kernelspec": {
   "display_name": "Python 3 (ipykernel) (Local) (Local)",
   "language": "python",
   "name": "conda-base-py"
  },
  "language_info": {
   "codemirror_mode": {
    "name": "ipython",
    "version": 3
   },
   "file_extension": ".py",
   "mimetype": "text/x-python",
   "name": "python",
   "nbconvert_exporter": "python",
   "pygments_lexer": "ipython3",
   "version": "3.10.16"
  }
 },
 "nbformat": 4,
 "nbformat_minor": 4
}
